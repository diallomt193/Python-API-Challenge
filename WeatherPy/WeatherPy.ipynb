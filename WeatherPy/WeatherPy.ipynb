{
 "cells": [
  {
   "cell_type": "markdown",
   "metadata": {},
   "source": [
    "# Analysis\n",
    "\n",
    "    * Temperatures tend to be higher around the equator point and they drop the further you are from that point. This is due to the shape of the earth being round.\n",
    "    * Latitude doesn't affect wind speed, because the speed of the wind is controlled by the strenght of the air pressure.\n",
    "    * The climate in the southern hemisphere tends to be milder than the one in the northern hemisphere because the southern hemisphere has more ocean and less land than the northern hemisphere."
   ]
  },
  {
   "cell_type": "code",
   "execution_count": 37,
   "metadata": {},
   "outputs": [],
   "source": [
    "# Dependencies and Setup\n",
    "import matplotlib.pyplot as plt\n",
    "import pandas as pd\n",
    "import numpy as np\n",
    "import requests\n",
    "import time\n",
    "from scipy import stats\n",
    "from scipy.stats import linregress\n",
    "\n",
    "# Import API key\n",
    "from api_keys import weather_api_key\n",
    "\n",
    "# Incorporated citipy to determine city based on latitude and longitude\n",
    "from citipy import citipy\n",
    "\n",
    "# Output File (CSV)\n",
    "output_data_file = \"output_data/cities.csv\"\n",
    "\n",
    "# Range of latitudes and longitudes\n",
    "lat_range = (-90, 90)\n",
    "lng_range = (-180, 180)"
   ]
  },
  {
   "cell_type": "markdown",
   "metadata": {},
   "source": [
    "# Generate Cities list"
   ]
  },
  {
   "cell_type": "code",
   "execution_count": 38,
   "metadata": {},
   "outputs": [
    {
     "data": {
      "text/plain": [
       "592"
      ]
     },
     "execution_count": 38,
     "metadata": {},
     "output_type": "execute_result"
    }
   ],
   "source": [
    "# List for holding lat_lngs and cities\n",
    "lat_lngs = []\n",
    "cities = []\n",
    "\n",
    "# Create a set of random lat and lng combinations\n",
    "lats = np.random.uniform(lat_range[0], lat_range[1], size=1500)\n",
    "lngs = np.random.uniform(lng_range[0], lng_range[1], size=1500)\n",
    "lat_lngs = zip(lats, lngs)\n",
    "\n",
    "# Identify nearest city for each lat, lng combination\n",
    "for lat_lng in lat_lngs:\n",
    "    city = citipy.nearest_city(lat_lng[0], lat_lng[1]).city_name\n",
    "    \n",
    "    # If the city is unique, then add it to a our cities list\n",
    "    if city not in cities:\n",
    "        cities.append(city)\n",
    "\n",
    "# Print the city count to confirm sufficient count\n",
    "len(cities)"
   ]
  },
  {
   "cell_type": "markdown",
   "metadata": {},
   "source": [
    "# Perform API Calls"
   ]
  },
  {
   "cell_type": "markdown",
   "metadata": {},
   "source": [
    "    . Perform a weather check on each city using a series of successive API calls.\n",
    "    . Include a print log of each city as it's being processed (with the city number and city name)"
   ]
  },
  {
   "cell_type": "code",
   "execution_count": 39,
   "metadata": {},
   "outputs": [],
   "source": [
    "#First, create a list to hold the variables below\n",
    "\n",
    "city_name_list = []\n",
    "cloudiness_list = []\n",
    "country_list = []\n",
    "date_list = []\n",
    "humidity_list = []\n",
    "lat_list = []\n",
    "lng_list = []\n",
    "max_temp_list = []\n",
    "wind_speed_list = []\n",
    "index_counter = 0\n",
    "set_counter = 1"
   ]
  },
  {
   "cell_type": "code",
   "execution_count": 107,
   "metadata": {},
   "outputs": [],
   "source": [
    "# Save config information.\n",
    "url = \"https://api.openweathermap.org/data/2.5/weather?\"\n",
    "units = \"imperial\"\n",
    "api_keys = weather_api_key\n",
    "\n",
    "# Build partial query URL\n",
    "query_url = f\"{url}appid={api_keys}&units={units}&q=\""
   ]
  },
  {
   "cell_type": "code",
   "execution_count": 41,
   "metadata": {},
   "outputs": [
    {
     "name": "stdout",
     "output_type": "stream",
     "text": [
      "-----------------------------\n",
      "Processing Record 1 of Set 1 : itarema\n",
      "Processing Record 2 of Set 1 : macherla\n",
      "Processing Record 3 of Set 1 : esperance\n",
      "Processing Record 4 of Set 1 : ushuaia\n",
      "Processing Record 5 of Set 1 : punta arenas\n",
      "Processing Record 6 of Set 1 : peniche\n",
      "Processing Record 7 of Set 1 : tuktoyaktuk\n",
      "Processing Record 8 of Set 1 : nikolskoye\n",
      "Processing Record 9 of Set 1 : bredasdorp\n",
      "Processing Record 10 of Set 1 : yulara\n",
      "Processing Record 11 of Set 1 : torbay\n",
      "Processing Record 12 of Set 1 : thompson\n",
      "Processing Record 13 of Set 1 : rikitea\n",
      "Processing Record 14 of Set 1 : yar-sale\n",
      "Processing Record 15 of Set 1 : dikson\n",
      "Processing Record 16 of Set 1 : kindu\n",
      "Processing Record 17 of Set 1 : butaritari\n",
      "Processing Record 18 of Set 1 : moundou\n",
      "Processing Record 19 of Set 1 : hobart\n",
      "Processing Record 20 of Set 1 : puerto ayora\n",
      "Processing Record 21 of Set 1 : ranfurly\n",
      "Processing Record 22 of Set 1 : biltine\n",
      "Processing Record 23 of Set 1 : cape town\n",
      "Processing Record 24 of Set 1 : puerto del rosario\n",
      "Processing Record 25 of Set 1 : hermanus\n",
      "Processing Record 26 of Set 1 : onega\n",
      "Processing Record 27 of Set 1 : nikko\n",
      "Processing Record 28 of Set 1 : port-gentil\n",
      "Processing Record 29 of Set 1 : saldanha\n",
      "Processing Record 30 of Set 1 : nago\n",
      "Processing Record 31 of Set 1 : los llanos de aridane\n",
      "Processing Record 32 of Set 1 : bluff\n",
      "Processing Record 33 of Set 1 : klaksvik\n",
      "Processing Record 34 of Set 1 : georgetown\n",
      "Processing Record 35 of Set 1 : faanui\n",
      "City not found. Skipping...\n",
      "Processing Record 36 of Set 1 : saskylakh\n",
      "Processing Record 37 of Set 1 : yellowknife\n",
      "Processing Record 38 of Set 1 : vaini\n",
      "City not found. Skipping...\n",
      "Processing Record 39 of Set 1 : ust-maya\n",
      "Processing Record 40 of Set 1 : brae\n",
      "Processing Record 41 of Set 1 : hithadhoo\n",
      "Processing Record 42 of Set 1 : aswan\n",
      "City not found. Skipping...\n",
      "Processing Record 43 of Set 1 : saint-augustin\n",
      "Processing Record 44 of Set 1 : lebu\n",
      "Processing Record 45 of Set 1 : atbasar\n",
      "City not found. Skipping...\n",
      "Processing Record 46 of Set 1 : novovasylivka\n",
      "Processing Record 47 of Set 1 : alofi\n",
      "Processing Record 48 of Set 1 : namibe\n",
      "Processing Record 49 of Set 1 : atuona\n",
      "Processing Record 50 of Set 1 : poum\n",
      "Processing Record 0 of Set 2 : kruisfontein\n",
      "Processing Record 1 of Set 2 : griffith\n",
      "Processing Record 2 of Set 2 : tiksi\n",
      "Processing Record 3 of Set 2 : busselton\n",
      "Processing Record 4 of Set 2 : la libertad\n",
      "Processing Record 5 of Set 2 : axim\n",
      "Processing Record 6 of Set 2 : arraial do cabo\n",
      "Processing Record 7 of Set 2 : sao joao da barra\n",
      "Processing Record 8 of Set 2 : souillac\n",
      "Processing Record 9 of Set 2 : la sarre\n",
      "Processing Record 10 of Set 2 : kuzino\n",
      "Processing Record 11 of Set 2 : upernavik\n",
      "Processing Record 12 of Set 2 : muros\n",
      "Processing Record 13 of Set 2 : albany\n",
      "Processing Record 14 of Set 2 : singuilucan\n",
      "Processing Record 15 of Set 2 : bilma\n",
      "Processing Record 16 of Set 2 : bodinayakkanur\n",
      "Processing Record 17 of Set 2 : barinas\n",
      "Processing Record 18 of Set 2 : port hardy\n",
      "City not found. Skipping...\n",
      "Processing Record 19 of Set 2 : nuuk\n",
      "Processing Record 20 of Set 2 : sioux lookout\n",
      "Processing Record 21 of Set 2 : nanakuli\n",
      "Processing Record 22 of Set 2 : port alfred\n",
      "Processing Record 23 of Set 2 : provideniya\n",
      "Processing Record 24 of Set 2 : machiques\n",
      "Processing Record 25 of Set 2 : new norfolk\n",
      "Processing Record 26 of Set 2 : simav\n",
      "City not found. Skipping...\n",
      "Processing Record 27 of Set 2 : mar del plata\n",
      "Processing Record 28 of Set 2 : hasaki\n",
      "Processing Record 29 of Set 2 : yaan\n",
      "Processing Record 30 of Set 2 : severo-yeniseyskiy\n",
      "City not found. Skipping...\n",
      "Processing Record 31 of Set 2 : mamakan\n",
      "Processing Record 32 of Set 2 : hamilton\n",
      "Processing Record 33 of Set 2 : abu dhabi\n",
      "City not found. Skipping...\n",
      "Processing Record 34 of Set 2 : chokurdakh\n",
      "Processing Record 35 of Set 2 : gigmoto\n",
      "Processing Record 36 of Set 2 : ancud\n",
      "Processing Record 37 of Set 2 : chuy\n",
      "Processing Record 38 of Set 2 : mataura\n",
      "Processing Record 39 of Set 2 : ribeira grande\n",
      "Processing Record 40 of Set 2 : pisco\n",
      "Processing Record 41 of Set 2 : kapaa\n",
      "City not found. Skipping...\n",
      "Processing Record 42 of Set 2 : bethel\n",
      "City not found. Skipping...\n",
      "City not found. Skipping...\n",
      "Processing Record 43 of Set 2 : yeniseysk\n",
      "Processing Record 44 of Set 2 : mahebourg\n",
      "Processing Record 45 of Set 2 : codrington\n",
      "Processing Record 46 of Set 2 : bengkulu\n",
      "Processing Record 47 of Set 2 : grand gaube\n",
      "Processing Record 48 of Set 2 : athabasca\n",
      "Processing Record 49 of Set 2 : vila franca do campo\n",
      "Processing Record 50 of Set 2 : galle\n",
      "Processing Record 0 of Set 3 : severo-kurilsk\n",
      "Processing Record 1 of Set 3 : olafsvik\n",
      "Processing Record 2 of Set 3 : oeiras\n",
      "Processing Record 3 of Set 3 : ilulissat\n",
      "Processing Record 4 of Set 3 : avarua\n",
      "Processing Record 5 of Set 3 : fortuna\n",
      "Processing Record 6 of Set 3 : mount gambier\n",
      "City not found. Skipping...\n",
      "Processing Record 7 of Set 3 : guerrero negro\n",
      "Processing Record 8 of Set 3 : tailai\n",
      "Processing Record 9 of Set 3 : kodiak\n",
      "Processing Record 10 of Set 3 : xingcheng\n",
      "Processing Record 11 of Set 3 : isla mujeres\n",
      "Processing Record 12 of Set 3 : high level\n",
      "Processing Record 13 of Set 3 : saint anthony\n",
      "Processing Record 14 of Set 3 : norman wells\n",
      "Processing Record 15 of Set 3 : acarau\n",
      "Processing Record 16 of Set 3 : grindavik\n",
      "Processing Record 17 of Set 3 : coolum beach\n",
      "Processing Record 18 of Set 3 : dunedin\n",
      "Processing Record 19 of Set 3 : kahului\n",
      "Processing Record 20 of Set 3 : iqaluit\n",
      "Processing Record 21 of Set 3 : pekan\n",
      "Processing Record 22 of Set 3 : nemuro\n",
      "Processing Record 23 of Set 3 : longyearbyen\n",
      "Processing Record 24 of Set 3 : henties bay\n",
      "Processing Record 25 of Set 3 : dingle\n",
      "Processing Record 26 of Set 3 : batagay-alyta\n",
      "Processing Record 27 of Set 3 : kawambwa\n",
      "City not found. Skipping...\n",
      "Processing Record 28 of Set 3 : bainbridge\n",
      "Processing Record 29 of Set 3 : kaitong\n",
      "Processing Record 30 of Set 3 : barrow\n",
      "Processing Record 31 of Set 3 : muroto\n",
      "Processing Record 32 of Set 3 : qaqortoq\n",
      "Processing Record 33 of Set 3 : mitsamiouli\n",
      "Processing Record 34 of Set 3 : havre-saint-pierre\n",
      "Processing Record 35 of Set 3 : suzhou\n",
      "Processing Record 36 of Set 3 : oleksandrivka\n",
      "Processing Record 37 of Set 3 : rawson\n",
      "City not found. Skipping...\n",
      "Processing Record 38 of Set 3 : trofors\n",
      "Processing Record 39 of Set 3 : tual\n",
      "Processing Record 40 of Set 3 : naze\n",
      "City not found. Skipping...\n",
      "City not found. Skipping...\n",
      "Processing Record 41 of Set 3 : portland\n",
      "Processing Record 42 of Set 3 : calabozo\n",
      "Processing Record 43 of Set 3 : clyde river\n",
      "Processing Record 44 of Set 3 : sayyan\n",
      "Processing Record 45 of Set 3 : kalmunai\n",
      "Processing Record 46 of Set 3 : castro\n",
      "City not found. Skipping...\n",
      "Processing Record 47 of Set 3 : geraldton\n",
      "City not found. Skipping...\n",
      "Processing Record 48 of Set 3 : churapcha\n",
      "Processing Record 49 of Set 3 : port elizabeth\n",
      "Processing Record 50 of Set 3 : bubaque\n",
      "Processing Record 0 of Set 4 : gawler\n",
      "Processing Record 1 of Set 4 : praia da vitoria\n",
      "City not found. Skipping...\n",
      "Processing Record 2 of Set 4 : hirara\n",
      "Processing Record 3 of Set 4 : sitka\n",
      "Processing Record 4 of Set 4 : dhidhdhoo\n",
      "Processing Record 5 of Set 4 : cabo san lucas\n",
      "Processing Record 6 of Set 4 : asau\n",
      "Processing Record 7 of Set 4 : tengelic\n",
      "Processing Record 8 of Set 4 : pitimbu\n",
      "Processing Record 9 of Set 4 : sikonge\n",
      "Processing Record 10 of Set 4 : lorengau\n",
      "Processing Record 11 of Set 4 : hualmay\n",
      "Processing Record 12 of Set 4 : ostrovnoy\n",
      "Processing Record 13 of Set 4 : cairns\n",
      "City not found. Skipping...\n",
      "City not found. Skipping...\n",
      "Processing Record 14 of Set 4 : severnyy\n",
      "Processing Record 15 of Set 4 : broome\n",
      "City not found. Skipping...\n",
      "Processing Record 16 of Set 4 : carnarvon\n",
      "Processing Record 17 of Set 4 : airai\n",
      "City not found. Skipping...\n",
      "Processing Record 18 of Set 4 : weligama\n",
      "Processing Record 19 of Set 4 : lingao\n",
      "Processing Record 20 of Set 4 : bhilwara\n",
      "Processing Record 21 of Set 4 : monrovia\n",
      "Processing Record 22 of Set 4 : thinadhoo\n",
      "Processing Record 23 of Set 4 : dongsheng\n",
      "Processing Record 24 of Set 4 : venado\n",
      "Processing Record 25 of Set 4 : udachnyy\n",
      "City not found. Skipping...\n",
      "Processing Record 26 of Set 4 : bileca\n",
      "Processing Record 27 of Set 4 : voyinka\n",
      "Processing Record 28 of Set 4 : nanortalik\n",
      "Processing Record 29 of Set 4 : pangnirtung\n",
      "Processing Record 30 of Set 4 : bathsheba\n"
     ]
    },
    {
     "name": "stdout",
     "output_type": "stream",
     "text": [
      "Processing Record 31 of Set 4 : kysyl-syr\n",
      "Processing Record 32 of Set 4 : bonthe\n",
      "Processing Record 33 of Set 4 : awjilah\n",
      "Processing Record 34 of Set 4 : bandiagara\n",
      "Processing Record 35 of Set 4 : tanabe\n",
      "Processing Record 36 of Set 4 : talnakh\n",
      "Processing Record 37 of Set 4 : nikitinskiy\n",
      "Processing Record 38 of Set 4 : qaanaaq\n",
      "Processing Record 39 of Set 4 : korla\n",
      "Processing Record 40 of Set 4 : lander\n",
      "Processing Record 41 of Set 4 : hilo\n",
      "Processing Record 42 of Set 4 : san rafael\n",
      "Processing Record 43 of Set 4 : bloomfield\n",
      "City not found. Skipping...\n",
      "Processing Record 44 of Set 4 : rudnichnyy\n",
      "Processing Record 45 of Set 4 : necochea\n",
      "Processing Record 46 of Set 4 : havoysund\n",
      "Processing Record 47 of Set 4 : luderitz\n",
      "Processing Record 48 of Set 4 : denizli\n",
      "Processing Record 49 of Set 4 : znamenskoye\n",
      "City not found. Skipping...\n",
      "Processing Record 50 of Set 4 : lagoa\n",
      "Processing Record 0 of Set 5 : petropavlovsk-kamchatskiy\n",
      "Processing Record 1 of Set 5 : port augusta\n",
      "Processing Record 2 of Set 5 : kita\n",
      "Processing Record 3 of Set 5 : taksimo\n",
      "Processing Record 4 of Set 5 : kavieng\n",
      "Processing Record 5 of Set 5 : tocache\n",
      "Processing Record 6 of Set 5 : davila\n",
      "Processing Record 7 of Set 5 : cidreira\n",
      "Processing Record 8 of Set 5 : rafai\n",
      "Processing Record 9 of Set 5 : chirongui\n",
      "Processing Record 10 of Set 5 : port shepstone\n",
      "Processing Record 11 of Set 5 : wadena\n",
      "Processing Record 12 of Set 5 : choya\n",
      "Processing Record 13 of Set 5 : torbat-e jam\n",
      "Processing Record 14 of Set 5 : punta gorda\n",
      "Processing Record 15 of Set 5 : saint-leu\n",
      "Processing Record 16 of Set 5 : hofn\n",
      "Processing Record 17 of Set 5 : bambous virieux\n",
      "Processing Record 18 of Set 5 : dong hoi\n",
      "Processing Record 19 of Set 5 : katsuura\n",
      "City not found. Skipping...\n",
      "Processing Record 20 of Set 5 : cherskiy\n",
      "Processing Record 21 of Set 5 : jieshi\n",
      "Processing Record 22 of Set 5 : victoria\n",
      "Processing Record 23 of Set 5 : uvalde\n",
      "Processing Record 24 of Set 5 : alasehir\n",
      "Processing Record 25 of Set 5 : tasiilaq\n",
      "City not found. Skipping...\n",
      "Processing Record 26 of Set 5 : orichi\n",
      "Processing Record 27 of Set 5 : mantua\n",
      "Processing Record 28 of Set 5 : gat\n",
      "Processing Record 29 of Set 5 : uddevalla\n",
      "Processing Record 30 of Set 5 : berlevag\n",
      "Processing Record 31 of Set 5 : camacha\n",
      "Processing Record 32 of Set 5 : singarayakonda\n",
      "Processing Record 33 of Set 5 : palana\n",
      "Processing Record 34 of Set 5 : faya\n",
      "Processing Record 35 of Set 5 : coquimbo\n",
      "Processing Record 36 of Set 5 : san vicente\n",
      "Processing Record 37 of Set 5 : zyryanka\n",
      "City not found. Skipping...\n",
      "Processing Record 38 of Set 5 : saint-philippe\n",
      "Processing Record 39 of Set 5 : glogow\n",
      "Processing Record 40 of Set 5 : iranshahr\n",
      "Processing Record 41 of Set 5 : coihaique\n",
      "Processing Record 42 of Set 5 : camana\n",
      "Processing Record 43 of Set 5 : troitsko-pechorsk\n",
      "Processing Record 44 of Set 5 : saint george\n",
      "City not found. Skipping...\n",
      "Processing Record 45 of Set 5 : devils lake\n",
      "Processing Record 46 of Set 5 : saint-francois\n",
      "Processing Record 47 of Set 5 : east london\n",
      "Processing Record 48 of Set 5 : ures\n",
      "Processing Record 49 of Set 5 : seymchan\n",
      "Processing Record 50 of Set 5 : chester\n",
      "Processing Record 0 of Set 6 : vaitape\n",
      "Processing Record 1 of Set 6 : rochester\n",
      "Processing Record 2 of Set 6 : notre-dame-du-lac\n",
      "Processing Record 3 of Set 6 : rio brilhante\n",
      "Processing Record 4 of Set 6 : lompoc\n",
      "City not found. Skipping...\n",
      "Processing Record 5 of Set 6 : saint-pierre\n",
      "Processing Record 6 of Set 6 : touros\n",
      "Processing Record 7 of Set 6 : matay\n",
      "City not found. Skipping...\n",
      "City not found. Skipping...\n",
      "Processing Record 8 of Set 6 : khandyga\n",
      "Processing Record 9 of Set 6 : isiro\n",
      "Processing Record 10 of Set 6 : leningradskiy\n",
      "Processing Record 11 of Set 6 : romny\n",
      "Processing Record 12 of Set 6 : ingham\n",
      "Processing Record 13 of Set 6 : sumenep\n",
      "Processing Record 14 of Set 6 : kerewan\n",
      "Processing Record 15 of Set 6 : sibolga\n",
      "Processing Record 16 of Set 6 : adzope\n",
      "Processing Record 17 of Set 6 : olinda\n",
      "Processing Record 18 of Set 6 : dornesti\n",
      "Processing Record 19 of Set 6 : vardo\n",
      "Processing Record 20 of Set 6 : taltal\n",
      "Processing Record 21 of Set 6 : capitan bado\n",
      "Processing Record 22 of Set 6 : kloulklubed\n",
      "Processing Record 23 of Set 6 : ketchikan\n",
      "Processing Record 24 of Set 6 : vangaindrano\n",
      "Processing Record 25 of Set 6 : inhambane\n",
      "Processing Record 26 of Set 6 : avera\n",
      "Processing Record 27 of Set 6 : tautira\n",
      "Processing Record 28 of Set 6 : caxias\n",
      "Processing Record 29 of Set 6 : aykhal\n",
      "Processing Record 30 of Set 6 : jamestown\n",
      "City not found. Skipping...\n",
      "Processing Record 31 of Set 6 : lavrentiya\n",
      "Processing Record 32 of Set 6 : kavaratti\n",
      "Processing Record 33 of Set 6 : ugoofaaru\n",
      "Processing Record 34 of Set 6 : barcelos\n",
      "Processing Record 35 of Set 6 : gisborne\n",
      "Processing Record 36 of Set 6 : cabadiangan\n",
      "City not found. Skipping...\n",
      "Processing Record 37 of Set 6 : port hedland\n",
      "Processing Record 38 of Set 6 : teya\n",
      "Processing Record 39 of Set 6 : bull savanna\n",
      "Processing Record 40 of Set 6 : tuatapere\n",
      "Processing Record 41 of Set 6 : ankazobe\n",
      "Processing Record 42 of Set 6 : tiznit\n",
      "Processing Record 43 of Set 6 : richards bay\n",
      "Processing Record 44 of Set 6 : santander\n",
      "Processing Record 45 of Set 6 : northam\n",
      "Processing Record 46 of Set 6 : quang ngai\n",
      "City not found. Skipping...\n",
      "Processing Record 47 of Set 6 : ambilobe\n",
      "City not found. Skipping...\n",
      "Processing Record 48 of Set 6 : pallasovka\n",
      "City not found. Skipping...\n",
      "Processing Record 49 of Set 6 : taybad\n",
      "Processing Record 50 of Set 6 : ahipara\n",
      "Processing Record 0 of Set 7 : westport\n",
      "Processing Record 1 of Set 7 : herat\n",
      "Processing Record 2 of Set 7 : kuusamo\n",
      "Processing Record 3 of Set 7 : matamoros\n",
      "Processing Record 4 of Set 7 : ossora\n",
      "Processing Record 5 of Set 7 : srednekolymsk\n",
      "Processing Record 6 of Set 7 : tahta\n",
      "Processing Record 7 of Set 7 : potsdam\n",
      "Processing Record 8 of Set 7 : yatou\n",
      "Processing Record 9 of Set 7 : santa marta\n",
      "Processing Record 10 of Set 7 : maiduguri\n",
      "Processing Record 11 of Set 7 : harper\n",
      "Processing Record 12 of Set 7 : khatanga\n",
      "Processing Record 13 of Set 7 : chapais\n",
      "Processing Record 14 of Set 7 : sola\n",
      "Processing Record 15 of Set 7 : pevek\n",
      "Processing Record 16 of Set 7 : belaya gora\n",
      "Processing Record 17 of Set 7 : byumba\n",
      "Processing Record 18 of Set 7 : sirjan\n",
      "Processing Record 19 of Set 7 : north bend\n",
      "Processing Record 20 of Set 7 : houma\n",
      "Processing Record 21 of Set 7 : fairbanks\n",
      "City not found. Skipping...\n",
      "Processing Record 22 of Set 7 : atar\n",
      "Processing Record 23 of Set 7 : manadhoo\n",
      "City not found. Skipping...\n",
      "Processing Record 24 of Set 7 : lensk\n",
      "Processing Record 25 of Set 7 : marawi\n",
      "City not found. Skipping...\n",
      "Processing Record 26 of Set 7 : chenghai\n",
      "Processing Record 27 of Set 7 : ponta do sol\n",
      "City not found. Skipping...\n",
      "Processing Record 28 of Set 7 : epinal\n",
      "Processing Record 29 of Set 7 : magistralnyy\n",
      "Processing Record 30 of Set 7 : vanimo\n",
      "Processing Record 31 of Set 7 : mujiayingzi\n",
      "Processing Record 32 of Set 7 : mykhaylivka\n",
      "Processing Record 33 of Set 7 : portadown\n",
      "Processing Record 34 of Set 7 : waitati\n",
      "City not found. Skipping...\n",
      "Processing Record 35 of Set 7 : kieta\n",
      "Processing Record 36 of Set 7 : merritt\n",
      "Processing Record 37 of Set 7 : meulaboh\n",
      "Processing Record 38 of Set 7 : sistranda\n",
      "Processing Record 39 of Set 7 : paka\n",
      "Processing Record 40 of Set 7 : oistins\n",
      "Processing Record 41 of Set 7 : berdigestyakh\n",
      "Processing Record 42 of Set 7 : atambua\n",
      "City not found. Skipping...\n",
      "Processing Record 43 of Set 7 : nedjo\n",
      "Processing Record 44 of Set 7 : copiapo\n",
      "Processing Record 45 of Set 7 : tavda\n",
      "Processing Record 46 of Set 7 : chifeng\n",
      "City not found. Skipping...\n",
      "Processing Record 47 of Set 7 : kaitangata\n",
      "Processing Record 48 of Set 7 : turukhansk\n",
      "Processing Record 49 of Set 7 : san quintin\n",
      "Processing Record 50 of Set 7 : flinders\n",
      "Processing Record 0 of Set 8 : verkhnyaya inta\n",
      "Processing Record 1 of Set 8 : oil city\n",
      "Processing Record 2 of Set 8 : bosaso\n",
      "Processing Record 3 of Set 8 : mabaruma\n",
      "Processing Record 4 of Set 8 : nouakchott\n",
      "Processing Record 5 of Set 8 : chany\n",
      "Processing Record 6 of Set 8 : qitaihe\n",
      "Processing Record 7 of Set 8 : elizabeth city\n",
      "Processing Record 8 of Set 8 : burnie\n",
      "Processing Record 9 of Set 8 : cockburn town\n",
      "Processing Record 10 of Set 8 : nioro\n",
      "Processing Record 11 of Set 8 : strezhevoy\n",
      "Processing Record 12 of Set 8 : nome\n"
     ]
    },
    {
     "name": "stdout",
     "output_type": "stream",
     "text": [
      "City not found. Skipping...\n",
      "Processing Record 13 of Set 8 : canita\n",
      "Processing Record 14 of Set 8 : acapulco\n",
      "Processing Record 15 of Set 8 : marsa matruh\n",
      "Processing Record 16 of Set 8 : heidenreichstein\n",
      "Processing Record 17 of Set 8 : ponta delgada\n",
      "Processing Record 18 of Set 8 : lasa\n",
      "Processing Record 19 of Set 8 : araouane\n",
      "Processing Record 20 of Set 8 : cayenne\n",
      "Processing Record 21 of Set 8 : qui nhon\n",
      "Processing Record 22 of Set 8 : vao\n",
      "Processing Record 23 of Set 8 : kattivakkam\n",
      "Processing Record 24 of Set 8 : santa cruz cabralia\n",
      "Processing Record 25 of Set 8 : tukrah\n",
      "Processing Record 26 of Set 8 : alice springs\n",
      "Processing Record 27 of Set 8 : mogadishu\n",
      "City not found. Skipping...\n",
      "Processing Record 28 of Set 8 : pascagoula\n",
      "City not found. Skipping...\n",
      "Processing Record 29 of Set 8 : san patricio\n",
      "Processing Record 30 of Set 8 : barra\n",
      "Processing Record 31 of Set 8 : vila velha\n",
      "Processing Record 32 of Set 8 : rudnyy\n",
      "City not found. Skipping...\n",
      "Processing Record 33 of Set 8 : loikaw\n",
      "Processing Record 34 of Set 8 : beckley\n",
      "Processing Record 35 of Set 8 : ucluelet\n",
      "Processing Record 36 of Set 8 : poya\n",
      "Processing Record 37 of Set 8 : mundo nuevo\n",
      "Processing Record 38 of Set 8 : constitucion\n",
      "Processing Record 39 of Set 8 : masterton\n",
      "Processing Record 40 of Set 8 : mitha tiwana\n",
      "City not found. Skipping...\n",
      "Processing Record 41 of Set 8 : carora\n",
      "Processing Record 42 of Set 8 : karratha\n",
      "Processing Record 43 of Set 8 : broken hill\n",
      "Processing Record 44 of Set 8 : tessalit\n",
      "Processing Record 45 of Set 8 : nabire\n",
      "Processing Record 46 of Set 8 : billings\n",
      "Processing Record 47 of Set 8 : chaman\n",
      "Processing Record 48 of Set 8 : siva\n",
      "Processing Record 49 of Set 8 : lida\n",
      "Processing Record 50 of Set 8 : shimoda\n",
      "Processing Record 0 of Set 9 : terney\n",
      "Processing Record 1 of Set 9 : labuhan\n",
      "Processing Record 2 of Set 9 : vanderhoof\n",
      "Processing Record 3 of Set 9 : anjozorobe\n",
      "Processing Record 4 of Set 9 : peoria\n",
      "Processing Record 5 of Set 9 : chunhuhub\n",
      "City not found. Skipping...\n",
      "Processing Record 6 of Set 9 : mugla\n",
      "Processing Record 7 of Set 9 : twin falls\n",
      "Processing Record 8 of Set 9 : usogorsk\n",
      "Processing Record 9 of Set 9 : port lincoln\n",
      "Processing Record 10 of Set 9 : florianopolis\n",
      "Processing Record 11 of Set 9 : pacifica\n",
      "Processing Record 12 of Set 9 : rocky mountain house\n",
      "Processing Record 13 of Set 9 : bari\n",
      "Processing Record 14 of Set 9 : bandar-e lengeh\n",
      "Processing Record 15 of Set 9 : samoded\n",
      "Processing Record 16 of Set 9 : neiafu\n",
      "Processing Record 17 of Set 9 : kafue\n",
      "Processing Record 18 of Set 9 : kikwit\n",
      "Processing Record 19 of Set 9 : nha trang\n",
      "Processing Record 20 of Set 9 : dolores\n",
      "Processing Record 21 of Set 9 : le mars\n",
      "Processing Record 22 of Set 9 : stornoway\n",
      "City not found. Skipping...\n",
      "Processing Record 23 of Set 9 : rancho palos verdes\n",
      "Processing Record 24 of Set 9 : abrau-dyurso\n",
      "Processing Record 25 of Set 9 : limbang\n",
      "Processing Record 26 of Set 9 : christchurch\n",
      "Processing Record 27 of Set 9 : rundu\n",
      "Processing Record 28 of Set 9 : challans\n",
      "Processing Record 29 of Set 9 : cabedelo\n",
      "Processing Record 30 of Set 9 : westerland\n",
      "Processing Record 31 of Set 9 : verkhoyansk\n",
      "Processing Record 32 of Set 9 : opuwo\n",
      "Processing Record 33 of Set 9 : manicore\n",
      "Processing Record 34 of Set 9 : arlit\n",
      "Processing Record 35 of Set 9 : balotra\n",
      "City not found. Skipping...\n",
      "Processing Record 36 of Set 9 : imbituba\n",
      "Processing Record 37 of Set 9 : santiago del estero\n",
      "Processing Record 38 of Set 9 : andenes\n",
      "Processing Record 39 of Set 9 : vanavara\n",
      "Processing Record 40 of Set 9 : auki\n",
      "Processing Record 41 of Set 9 : alta floresta\n",
      "Processing Record 42 of Set 9 : honiara\n",
      "Processing Record 43 of Set 9 : antanifotsy\n",
      "Processing Record 44 of Set 9 : ulladulla\n",
      "Processing Record 45 of Set 9 : djenne\n",
      "Processing Record 46 of Set 9 : tabas\n",
      "Processing Record 47 of Set 9 : tirumullaivasal\n",
      "Processing Record 48 of Set 9 : san cristobal\n",
      "Processing Record 49 of Set 9 : samarai\n",
      "Processing Record 50 of Set 9 : crotone\n",
      "Processing Record 0 of Set 10 : tilichiki\n",
      "Processing Record 1 of Set 10 : atherton\n",
      "City not found. Skipping...\n",
      "Processing Record 2 of Set 10 : sun valley\n",
      "Processing Record 3 of Set 10 : karaj\n",
      "Processing Record 4 of Set 10 : meadow lake\n",
      "Processing Record 5 of Set 10 : santa maria\n",
      "Processing Record 6 of Set 10 : narsaq\n",
      "Processing Record 7 of Set 10 : dawei\n",
      "Processing Record 8 of Set 10 : caraycaray\n",
      "Processing Record 9 of Set 10 : gijon\n",
      "Processing Record 10 of Set 10 : kasama\n",
      "Processing Record 11 of Set 10 : sept-iles\n",
      "Processing Record 12 of Set 10 : bandarban\n",
      "City not found. Skipping...\n",
      "Processing Record 13 of Set 10 : lamu\n",
      "Processing Record 14 of Set 10 : gerga\n",
      "Processing Record 15 of Set 10 : benguela\n",
      "Processing Record 16 of Set 10 : eureka\n",
      "Processing Record 17 of Set 10 : sechura\n",
      "Processing Record 18 of Set 10 : gizo\n",
      "Processing Record 19 of Set 10 : bobrovka\n",
      "Processing Record 20 of Set 10 : abha\n",
      "Processing Record 21 of Set 10 : defiance\n",
      "Processing Record 22 of Set 10 : vrangel\n",
      "Processing Record 23 of Set 10 : netarhat\n",
      "Processing Record 24 of Set 10 : union\n",
      "Processing Record 25 of Set 10 : anadyr\n",
      "Processing Record 26 of Set 10 : beloha\n",
      "Processing Record 27 of Set 10 : alyangula\n",
      "Processing Record 28 of Set 10 : kushmurun\n",
      "Processing Record 29 of Set 10 : bilibino\n",
      "Processing Record 30 of Set 10 : qingyuan\n",
      "Processing Record 31 of Set 10 : george\n",
      "Processing Record 32 of Set 10 : hit\n",
      "Processing Record 33 of Set 10 : huaihua\n",
      "Processing Record 34 of Set 10 : uige\n",
      "Processing Record 35 of Set 10 : capitao poco\n",
      "Processing Record 36 of Set 10 : viedma\n",
      "Processing Record 37 of Set 10 : mankono\n",
      "Processing Record 38 of Set 10 : wilmington\n",
      "Processing Record 39 of Set 10 : gamba\n",
      "Processing Record 40 of Set 10 : mahina\n",
      "Processing Record 41 of Set 10 : sretensk\n",
      "Processing Record 42 of Set 10 : abeche\n",
      "Processing Record 43 of Set 10 : kemi\n",
      "Processing Record 44 of Set 10 : meerane\n",
      "Processing Record 45 of Set 10 : qurayyat\n",
      "Processing Record 46 of Set 10 : haines junction\n",
      "Processing Record 47 of Set 10 : caiaponia\n",
      "Processing Record 48 of Set 10 : saraland\n",
      "Processing Record 49 of Set 10 : algiers\n",
      "Processing Record 50 of Set 10 : panjab\n",
      "Processing Record 0 of Set 11 : mount pleasant\n",
      "Processing Record 1 of Set 11 : oktyabrskiy\n",
      "Processing Record 2 of Set 11 : fasa\n",
      "Processing Record 3 of Set 11 : san jose\n",
      "Processing Record 4 of Set 11 : americus\n",
      "Processing Record 5 of Set 11 : sokone\n",
      "City not found. Skipping...\n",
      "Processing Record 6 of Set 11 : sinazongwe\n",
      "Processing Record 7 of Set 11 : isangel\n",
      "Processing Record 8 of Set 11 : the pas\n",
      "Processing Record 9 of Set 11 : sokoni\n",
      "Processing Record 10 of Set 11 : balud\n",
      "Processing Record 11 of Set 11 : zarand\n",
      "Processing Record 12 of Set 11 : oliveira\n",
      "Processing Record 13 of Set 11 : asosa\n",
      "Processing Record 14 of Set 11 : cabras\n",
      "Processing Record 15 of Set 11 : sinnamary\n",
      "Processing Record 16 of Set 11 : harpanahalli\n",
      "Processing Record 17 of Set 11 : elko\n",
      "Processing Record 18 of Set 11 : deputatskiy\n",
      "Processing Record 19 of Set 11 : porto novo\n",
      "Processing Record 20 of Set 11 : te anau\n",
      "Processing Record 21 of Set 11 : nicoya\n",
      "Processing Record 22 of Set 11 : uppsala\n",
      "Processing Record 23 of Set 11 : darnah\n",
      "City not found. Skipping...\n",
      "Processing Record 24 of Set 11 : aklavik\n",
      "Processing Record 25 of Set 11 : vestmanna\n",
      "-----------------------------\n"
     ]
    }
   ],
   "source": [
    "\n",
    "print(\"-----------------------------\")\n",
    "\n",
    "# For each city name in cities list, do below things...\n",
    "for index, city in enumerate(cities, start = 1):\n",
    "    try:\n",
    "        response = requests.get(query_url + city).json()\n",
    "        city_name_list.append(response[\"name\"])\n",
    "        cloudiness_list.append(response[\"clouds\"][\"all\"])\n",
    "        country_list.append(response[\"sys\"][\"country\"])\n",
    "        date_list.append(response[\"dt\"])\n",
    "        humidity_list.append(response[\"main\"][\"humidity\"])\n",
    "        lat_list.append(response[\"coord\"][\"lat\"])\n",
    "        lng_list.append(response[\"coord\"][\"lon\"])\n",
    "        max_temp_list.append(response['main']['temp_max'])\n",
    "        wind_speed_list.append(response[\"wind\"][\"speed\"])\n",
    "        if index_counter > 49:\n",
    "            index_counter = 0\n",
    "            set_counter = set_counter + 1\n",
    "    \n",
    "        else:\n",
    "            index_counter = index_counter + 1\n",
    "            \n",
    "        print(f\"Processing Record {index_counter} of Set {set_counter} : {city}\") \n",
    "  \n",
    "    except(KeyError, IndexError):\n",
    "        print(\"City not found. Skipping...\")\n",
    "\n",
    "print(\"-----------------------------\")\n"
   ]
  },
  {
   "cell_type": "markdown",
   "metadata": {},
   "source": [
    "# Convert Raw Data to DataFrame\n",
    "    . Export the city data into a csv\n",
    "    . Display the DataFrame"
   ]
  },
  {
   "cell_type": "code",
   "execution_count": 76,
   "metadata": {},
   "outputs": [
    {
     "data": {
      "text/html": [
       "<div>\n",
       "<style scoped>\n",
       "    .dataframe tbody tr th:only-of-type {\n",
       "        vertical-align: middle;\n",
       "    }\n",
       "\n",
       "    .dataframe tbody tr th {\n",
       "        vertical-align: top;\n",
       "    }\n",
       "\n",
       "    .dataframe thead th {\n",
       "        text-align: right;\n",
       "    }\n",
       "</style>\n",
       "<table border=\"1\" class=\"dataframe\">\n",
       "  <thead>\n",
       "    <tr style=\"text-align: right;\">\n",
       "      <th></th>\n",
       "      <th>City</th>\n",
       "      <th>Cloudiness</th>\n",
       "      <th>Country</th>\n",
       "      <th>Date</th>\n",
       "      <th>Humidity</th>\n",
       "      <th>Lat</th>\n",
       "      <th>Lng</th>\n",
       "      <th>Max Temp</th>\n",
       "      <th>Wind Speed</th>\n",
       "    </tr>\n",
       "  </thead>\n",
       "  <tbody>\n",
       "    <tr>\n",
       "      <th>0</th>\n",
       "      <td>Itarema</td>\n",
       "      <td>97</td>\n",
       "      <td>BR</td>\n",
       "      <td>1650735390</td>\n",
       "      <td>96</td>\n",
       "      <td>-2.9248</td>\n",
       "      <td>-39.9167</td>\n",
       "      <td>74.50</td>\n",
       "      <td>8.12</td>\n",
       "    </tr>\n",
       "    <tr>\n",
       "      <th>1</th>\n",
       "      <td>Mācherla</td>\n",
       "      <td>81</td>\n",
       "      <td>IN</td>\n",
       "      <td>1650736171</td>\n",
       "      <td>54</td>\n",
       "      <td>16.4833</td>\n",
       "      <td>79.4333</td>\n",
       "      <td>85.51</td>\n",
       "      <td>15.17</td>\n",
       "    </tr>\n",
       "    <tr>\n",
       "      <th>2</th>\n",
       "      <td>Esperance</td>\n",
       "      <td>70</td>\n",
       "      <td>AU</td>\n",
       "      <td>1650736006</td>\n",
       "      <td>88</td>\n",
       "      <td>-33.8667</td>\n",
       "      <td>121.9000</td>\n",
       "      <td>57.04</td>\n",
       "      <td>11.03</td>\n",
       "    </tr>\n",
       "    <tr>\n",
       "      <th>3</th>\n",
       "      <td>Ushuaia</td>\n",
       "      <td>75</td>\n",
       "      <td>AR</td>\n",
       "      <td>1650735835</td>\n",
       "      <td>66</td>\n",
       "      <td>-54.8000</td>\n",
       "      <td>-68.3000</td>\n",
       "      <td>46.06</td>\n",
       "      <td>9.22</td>\n",
       "    </tr>\n",
       "    <tr>\n",
       "      <th>4</th>\n",
       "      <td>Punta Arenas</td>\n",
       "      <td>100</td>\n",
       "      <td>CL</td>\n",
       "      <td>1650735636</td>\n",
       "      <td>87</td>\n",
       "      <td>-53.1500</td>\n",
       "      <td>-70.9167</td>\n",
       "      <td>46.42</td>\n",
       "      <td>9.22</td>\n",
       "    </tr>\n",
       "    <tr>\n",
       "      <th>...</th>\n",
       "      <td>...</td>\n",
       "      <td>...</td>\n",
       "      <td>...</td>\n",
       "      <td>...</td>\n",
       "      <td>...</td>\n",
       "      <td>...</td>\n",
       "      <td>...</td>\n",
       "      <td>...</td>\n",
       "      <td>...</td>\n",
       "    </tr>\n",
       "    <tr>\n",
       "      <th>530</th>\n",
       "      <td>Nicoya</td>\n",
       "      <td>30</td>\n",
       "      <td>CR</td>\n",
       "      <td>1650736005</td>\n",
       "      <td>44</td>\n",
       "      <td>10.1483</td>\n",
       "      <td>-85.4520</td>\n",
       "      <td>90.90</td>\n",
       "      <td>4.99</td>\n",
       "    </tr>\n",
       "    <tr>\n",
       "      <th>531</th>\n",
       "      <td>Uppsala County</td>\n",
       "      <td>75</td>\n",
       "      <td>SE</td>\n",
       "      <td>1650736356</td>\n",
       "      <td>57</td>\n",
       "      <td>60.0000</td>\n",
       "      <td>17.7500</td>\n",
       "      <td>45.84</td>\n",
       "      <td>17.27</td>\n",
       "    </tr>\n",
       "    <tr>\n",
       "      <th>532</th>\n",
       "      <td>Darnah</td>\n",
       "      <td>0</td>\n",
       "      <td>LY</td>\n",
       "      <td>1650736356</td>\n",
       "      <td>83</td>\n",
       "      <td>32.7670</td>\n",
       "      <td>22.6367</td>\n",
       "      <td>61.70</td>\n",
       "      <td>16.44</td>\n",
       "    </tr>\n",
       "    <tr>\n",
       "      <th>533</th>\n",
       "      <td>Aklavik</td>\n",
       "      <td>0</td>\n",
       "      <td>CA</td>\n",
       "      <td>1650736357</td>\n",
       "      <td>63</td>\n",
       "      <td>68.2191</td>\n",
       "      <td>-135.0107</td>\n",
       "      <td>23.00</td>\n",
       "      <td>9.22</td>\n",
       "    </tr>\n",
       "    <tr>\n",
       "      <th>534</th>\n",
       "      <td>Vestmanna</td>\n",
       "      <td>75</td>\n",
       "      <td>FO</td>\n",
       "      <td>1650736113</td>\n",
       "      <td>71</td>\n",
       "      <td>62.1564</td>\n",
       "      <td>-7.1664</td>\n",
       "      <td>45.52</td>\n",
       "      <td>4.61</td>\n",
       "    </tr>\n",
       "  </tbody>\n",
       "</table>\n",
       "<p>535 rows × 9 columns</p>\n",
       "</div>"
      ],
      "text/plain": [
       "               City  Cloudiness Country        Date  Humidity      Lat  \\\n",
       "0           Itarema          97      BR  1650735390        96  -2.9248   \n",
       "1          Mācherla          81      IN  1650736171        54  16.4833   \n",
       "2         Esperance          70      AU  1650736006        88 -33.8667   \n",
       "3           Ushuaia          75      AR  1650735835        66 -54.8000   \n",
       "4      Punta Arenas         100      CL  1650735636        87 -53.1500   \n",
       "..              ...         ...     ...         ...       ...      ...   \n",
       "530          Nicoya          30      CR  1650736005        44  10.1483   \n",
       "531  Uppsala County          75      SE  1650736356        57  60.0000   \n",
       "532          Darnah           0      LY  1650736356        83  32.7670   \n",
       "533         Aklavik           0      CA  1650736357        63  68.2191   \n",
       "534       Vestmanna          75      FO  1650736113        71  62.1564   \n",
       "\n",
       "          Lng  Max Temp  Wind Speed  \n",
       "0    -39.9167     74.50        8.12  \n",
       "1     79.4333     85.51       15.17  \n",
       "2    121.9000     57.04       11.03  \n",
       "3    -68.3000     46.06        9.22  \n",
       "4    -70.9167     46.42        9.22  \n",
       "..        ...       ...         ...  \n",
       "530  -85.4520     90.90        4.99  \n",
       "531   17.7500     45.84       17.27  \n",
       "532   22.6367     61.70       16.44  \n",
       "533 -135.0107     23.00        9.22  \n",
       "534   -7.1664     45.52        4.61  \n",
       "\n",
       "[535 rows x 9 columns]"
      ]
     },
     "execution_count": 76,
     "metadata": {},
     "output_type": "execute_result"
    }
   ],
   "source": [
    "# Create a panda data frame using data retrieved\n",
    "city_data = pd.DataFrame({ \n",
    "                \"City\" : city_name_list,\n",
    "                \"Cloudiness\" : cloudiness_list,\n",
    "                \"Country\" : country_list,\n",
    "                \"Date\" : date_list,\n",
    "                \"Humidity\" : humidity_list,\n",
    "                \"Lat\" : lat_list,\n",
    "                \"Lng\" : lng_list,\n",
    "                \"Max Temp\" : max_temp_list,\n",
    "                \"Wind Speed\" : wind_speed_list\n",
    "})\n",
    "\n",
    "city_data"
   ]
  },
  {
   "cell_type": "code",
   "execution_count": 77,
   "metadata": {},
   "outputs": [],
   "source": [
    "#Save city data into a csv\n",
    "city_data.to_csv(\"output_data/cities.csv\", index = False)"
   ]
  },
  {
   "cell_type": "markdown",
   "metadata": {},
   "source": [
    "# Plotting the Data\n",
    "* Use proper labeling of the plots using plot titles (including date of analysis) and axes labels.\n",
    "* Save the plotted figures as .pngs."
   ]
  },
  {
   "cell_type": "markdown",
   "metadata": {},
   "source": [
    "# Latitude vs. Temperature Plot"
   ]
  },
  {
   "cell_type": "code",
   "execution_count": 78,
   "metadata": {},
   "outputs": [
    {
     "data": {
      "image/png": "[encoded data removed]",
      "text/plain": [
       "<Figure size 432x288 with 1 Axes>"
      ]
     },
     "metadata": {
      "needs_background": "light"
     },
     "output_type": "display_data"
    }
   ],
   "source": [
    "# Create a Scatter Plot for temperature vs latitude\n",
    "\n",
    "plt.title(\"Latitute vs Max Temperature\")\n",
    "x_values = city_data[\"Lat\"]\n",
    "y_values = city_data[\"Max Temp\"]\n",
    "plt.scatter(x_values,y_values,facecolor = \"steelblue\", edgecolor = \"black\")\n",
    "plt.xlabel(\"Latitude\")\n",
    "plt.ylabel(\"Maximum Temperature\")\n",
    "plt.grid(linestyle='-', linewidth=1, alpha = 0.5)\n",
    "plt.savefig(\"Images/Latitude vs Max Temperature.png\")\n",
    "plt.show()"
   ]
  },
  {
   "cell_type": "markdown",
   "metadata": {},
   "source": [
    "The highest temperature can be found at a latitude of around 18 or 19. Additionally as the latitude increases or decreases, the temperature decreases."
   ]
  },
  {
   "cell_type": "markdown",
   "metadata": {},
   "source": [
    "# Latitude vs. Humidity Plot"
   ]
  },
  {
   "cell_type": "code",
   "execution_count": 79,
   "metadata": {},
   "outputs": [
    {
     "data": {
      "image/png": "[encoded data removed]",
      "text/plain": [
       "<Figure size 432x288 with 1 Axes>"
      ]
     },
     "metadata": {
      "needs_background": "light"
     },
     "output_type": "display_data"
    }
   ],
   "source": [
    "# Create a Scatter Plot for latitude vs humidity\n",
    "\n",
    "plt.title(\"Latitute vs Max Humidity\")\n",
    "x_values = city_data[\"Lat\"]\n",
    "y_values = city_data[\"Humidity\"]\n",
    "plt.scatter(x_values,y_values,facecolor = \"steelblue\", edgecolor = \"black\")\n",
    "plt.xlabel(\"Latitude\")\n",
    "plt.ylabel(\"Humidity\")\n",
    "plt.grid(linestyle='-', linewidth=1, alpha = 0.5)\n",
    "plt.savefig(\"Images/Latitude vs Humidity.png\")\n",
    "plt.show()"
   ]
  },
  {
   "cell_type": "markdown",
   "metadata": {},
   "source": [
    "On this graph we can see that as the latitude increases, the humidity increases as well."
   ]
  },
  {
   "cell_type": "markdown",
   "metadata": {},
   "source": [
    "# Latitude vs. Cloudiness Plot"
   ]
  },
  {
   "cell_type": "code",
   "execution_count": 80,
   "metadata": {},
   "outputs": [
    {
     "data": {
      "image/png": "[encoded data removed]",
      "text/plain": [
       "<Figure size 432x288 with 1 Axes>"
      ]
     },
     "metadata": {
      "needs_background": "light"
     },
     "output_type": "display_data"
    }
   ],
   "source": [
    "# Create a Scatter Plot for latitute vs cloudiness\n",
    "\n",
    "plt.title(\"Latitute vs Max Cloudiness\")\n",
    "x_values = city_data[\"Lat\"]\n",
    "y_values = city_data[\"Cloudiness\"]\n",
    "plt.scatter(x_values,y_values,facecolor = \"steelblue\", edgecolor = \"black\")\n",
    "plt.xlabel(\"Latitude\")\n",
    "plt.ylabel(\"Cloudiness\")\n",
    "plt.grid(linestyle='-', linewidth=1, alpha = 0.5)\n",
    "plt.savefig(\"Images/Latitude vs Cloudiness.png\")\n",
    "plt.show()"
   ]
  },
  {
   "cell_type": "markdown",
   "metadata": {},
   "source": [
    "In this case, the cloudiness is spread across the latitude."
   ]
  },
  {
   "cell_type": "markdown",
   "metadata": {},
   "source": [
    "# Latitude vs. Wind Speed Plot"
   ]
  },
  {
   "cell_type": "code",
   "execution_count": 81,
   "metadata": {},
   "outputs": [
    {
     "data": {
      "image/png": "[encoded data removed]",
      "text/plain": [
       "<Figure size 432x288 with 1 Axes>"
      ]
     },
     "metadata": {
      "needs_background": "light"
     },
     "output_type": "display_data"
    }
   ],
   "source": [
    "# Create a Scatter Plot for latitude vs wind speed\n",
    "\n",
    "plt.title(\"Latitute vs Wind Speed\")\n",
    "x_values = city_data[\"Lat\"]\n",
    "y_values = city_data[\"Wind Speed\"]\n",
    "plt.scatter(x_values,y_values,facecolor = \"steelblue\", edgecolor = \"black\")\n",
    "plt.xlabel(\"Latitude\")\n",
    "plt.ylabel(\"Wind Speed\")\n",
    "plt.grid(linestyle='-', linewidth=1, alpha = 0.5)\n",
    "plt.savefig(\"Images/Latitude vs Max Wind Speed.png\")\n",
    "plt.show()"
   ]
  },
  {
   "cell_type": "markdown",
   "metadata": {},
   "source": [
    "On this graph, we can see that wind speed is spread across the latitude."
   ]
  },
  {
   "cell_type": "markdown",
   "metadata": {},
   "source": [
    "# Linear Regression"
   ]
  },
  {
   "cell_type": "code",
   "execution_count": 82,
   "metadata": {},
   "outputs": [],
   "source": [
    "#Northern and Southern Hemispheres\n",
    "northern_hemisphere = city_data.loc[city_data[\"Lat\"] >= 0]\n",
    "southern_hemisphere = city_data.loc[city_data[\"Lat\"] < 0]"
   ]
  },
  {
   "cell_type": "markdown",
   "metadata": {},
   "source": [
    "#  Northern Hemisphere - Max Temp vs. Latitude Linear Regression"
   ]
  },
  {
   "cell_type": "code",
   "execution_count": 83,
   "metadata": {},
   "outputs": [
    {
     "name": "stdout",
     "output_type": "stream",
     "text": [
      "1      82.542925\n",
      "5      56.757899\n",
      "6      22.826958\n",
      "7      33.819175\n",
      "10     47.388823\n",
      "         ...    \n",
      "530    89.684607\n",
      "531    33.484919\n",
      "532    64.185700\n",
      "533    24.219220\n",
      "534    31.053929\n",
      "Name: Lat, Length: 375, dtype: float64\n"
     ]
    }
   ],
   "source": [
    "# Perform a linear regression on Northern hemisphere temperature vs. latitude\n",
    "(slope, intercept, rvalue, pvalue, stderr) = stats.linregress(northern_hemisphere[\"Lat\"], northern_hemisphere[\"Max Temp\"])\n",
    "\n",
    "# Get regression values\n",
    "regress_values = northern_hemisphere[\"Lat\"] * slope + intercept\n",
    "print(regress_values)"
   ]
  },
  {
   "cell_type": "code",
   "execution_count": 84,
   "metadata": {},
   "outputs": [
    {
     "name": "stdout",
     "output_type": "stream",
     "text": [
      "y = -1.13x +101.13\n"
     ]
    }
   ],
   "source": [
    "# Create line equation string\n",
    "line_eq = \"y = \" + str(round(slope,2)) + \"x +\" + str(round(intercept,2))\n",
    "print(line_eq)"
   ]
  },
  {
   "cell_type": "code",
   "execution_count": 85,
   "metadata": {},
   "outputs": [
    {
     "name": "stdout",
     "output_type": "stream",
     "text": [
      "The r-value is: -0.8729272999529846\n"
     ]
    },
    {
     "data": {
      "image/png": "[encoded data removed]",
      "text/plain": [
       "<Figure size 432x288 with 1 Axes>"
      ]
     },
     "metadata": {
      "needs_background": "light"
     },
     "output_type": "display_data"
    }
   ],
   "source": [
    "# Create Plot\n",
    "plt.scatter(northern_hemisphere[\"Lat\"],northern_hemisphere[\"Max Temp\"])\n",
    "plt.plot(northern_hemisphere[\"Lat\"],regress_values,\"r-\")\n",
    "plt.title(\"Northern Hemisphere - Max Temp vs. Latitude Linear Regression\")\n",
    "plt.savefig(\"Images/Northern Hemisphere - Max Temp vs. Latitude Linear Regression.png\")\n",
    "\n",
    "# Label plot and annotate the line equation\n",
    "plt.xlabel('Latitude')\n",
    "plt.ylabel('Maximum Temperature')\n",
    "plt.annotate(line_eq,(20,15),fontsize=15,color=\"red\")\n",
    "\n",
    "# Print r value\n",
    "print(f\"The r-value is: {rvalue}\")\n",
    "\n",
    "# Show plot\n",
    "plt.show()\n"
   ]
  },
  {
   "cell_type": "markdown",
   "metadata": {},
   "source": [
    "There is a strong negative correlation between the latitude and the temperature in the northern hemisphere."
   ]
  },
  {
   "cell_type": "markdown",
   "metadata": {},
   "source": [
    "#  Southern Hemisphere - Max Temp vs. Latitude Linear Regression"
   ]
  },
  {
   "cell_type": "code",
   "execution_count": 86,
   "metadata": {},
   "outputs": [
    {
     "name": "stdout",
     "output_type": "stream",
     "text": [
      "0      82.570502\n",
      "2      62.683999\n",
      "3      49.230070\n",
      "4      50.290533\n",
      "8      62.256279\n",
      "         ...    \n",
      "515    73.356303\n",
      "516    71.885409\n",
      "518    80.315573\n",
      "521    71.148612\n",
      "529    55.260761\n",
      "Name: Lat, Length: 160, dtype: float64\n"
     ]
    }
   ],
   "source": [
    "# Perform a linear regression on Northern hemisphere temperature vs. latitude\n",
    "(slope, intercept, rvalue, pvalue, stderr) = stats.linregress(southern_hemisphere[\"Lat\"], southern_hemisphere[\"Max Temp\"])\n",
    "\n",
    "# Get regression values\n",
    "regress_values = southern_hemisphere[\"Lat\"] * slope + intercept\n",
    "print(regress_values)"
   ]
  },
  {
   "cell_type": "code",
   "execution_count": 87,
   "metadata": {},
   "outputs": [
    {
     "name": "stdout",
     "output_type": "stream",
     "text": [
      "y = 0.64x +84.45\n"
     ]
    }
   ],
   "source": [
    "# Create line equation string\n",
    "line_eq = \"y = \" + str(round(slope,2)) + \"x +\" + str(round(intercept,2))\n",
    "print(line_eq)"
   ]
  },
  {
   "cell_type": "code",
   "execution_count": 88,
   "metadata": {},
   "outputs": [
    {
     "name": "stdout",
     "output_type": "stream",
     "text": [
      "The r-value is: 0.7526323824347985\n"
     ]
    },
    {
     "data": {
      "image/png": "[encoded data removed]",
      "text/plain": [
       "<Figure size 432x288 with 1 Axes>"
      ]
     },
     "metadata": {
      "needs_background": "light"
     },
     "output_type": "display_data"
    }
   ],
   "source": [
    "# Create Plot\n",
    "plt.scatter(southern_hemisphere[\"Lat\"],southern_hemisphere[\"Max Temp\"])\n",
    "plt.plot(southern_hemisphere[\"Lat\"],regress_values,\"r-\")\n",
    "plt.title(\"Southern Hemisphere - Max Temp vs. Latitude Linear Regression\")\n",
    "plt.savefig(\"Images/Southern Hemisphere - Max Temp vs. Latitude Linear Regression.png\")\n",
    "\n",
    "# Label plot and annotate the line equation\n",
    "plt.xlabel('Latitude')\n",
    "plt.ylabel('Maximum Temperature')\n",
    "plt.annotate(line_eq,(-30,50),fontsize=15,color=\"red\")\n",
    "\n",
    "# Print r value\n",
    "print(f\"The r-value is: {rvalue}\")\n",
    "\n",
    "# Show plot\n",
    "plt.show()"
   ]
  },
  {
   "cell_type": "markdown",
   "metadata": {},
   "source": [
    "There is a strong positive correlation between the latitude and the maximum temperature."
   ]
  },
  {
   "cell_type": "markdown",
   "metadata": {},
   "source": [
    "#  Northern Hemisphere - Humidity (%) vs. Latitude Linear Regression"
   ]
  },
  {
   "cell_type": "code",
   "execution_count": 89,
   "metadata": {},
   "outputs": [
    {
     "name": "stdout",
     "output_type": "stream",
     "text": [
      "1      57.610243\n",
      "5      67.167677\n",
      "6      79.744462\n",
      "7      75.670106\n",
      "10     70.640403\n",
      "         ...    \n",
      "530    54.963118\n",
      "531    75.794000\n",
      "532    64.414501\n",
      "533    79.228409\n",
      "534    76.695067\n",
      "Name: Lat, Length: 375, dtype: float64\n"
     ]
    }
   ],
   "source": [
    "# Perform a linear regression on Northern hemisphere temperature vs. latitude\n",
    "(slope, intercept, rvalue, pvalue, stderr) = stats.linregress(northern_hemisphere[\"Lat\"], northern_hemisphere[\"Humidity\"])\n",
    "\n",
    "# Get regression values\n",
    "regress_values = northern_hemisphere[\"Lat\"] * slope + intercept\n",
    "print(regress_values)"
   ]
  },
  {
   "cell_type": "code",
   "execution_count": 90,
   "metadata": {},
   "outputs": [
    {
     "name": "stdout",
     "output_type": "stream",
     "text": [
      "y = 0.42x +50.72\n"
     ]
    }
   ],
   "source": [
    "# Create line equation string\n",
    "line_eq = \"y = \" + str(round(slope,2)) + \"x +\" + str(round(intercept,2))\n",
    "print(line_eq)"
   ]
  },
  {
   "cell_type": "code",
   "execution_count": 91,
   "metadata": {},
   "outputs": [
    {
     "name": "stdout",
     "output_type": "stream",
     "text": [
      "The r-value is: 0.32331618806732615\n"
     ]
    },
    {
     "data": {
      "image/png": "[encoded data removed]",
      "text/plain": [
       "<Figure size 432x288 with 1 Axes>"
      ]
     },
     "metadata": {
      "needs_background": "light"
     },
     "output_type": "display_data"
    }
   ],
   "source": [
    "# Create Plot\n",
    "plt.scatter(northern_hemisphere[\"Lat\"],northern_hemisphere[\"Humidity\"])\n",
    "plt.plot(northern_hemisphere[\"Lat\"],regress_values,\"r-\")\n",
    "plt.title(\"Northern Hemisphere - Humidity (%) vs. Latitude Linear Regression\")\n",
    "plt.savefig(\"Images/Northern Hemisphere - Humidity (%) vs. Latitude Linear Regression.png\")\n",
    "\n",
    "# Label plot and annotate the line equation\n",
    "plt.xlabel('Latitude')\n",
    "plt.ylabel('Humidity')\n",
    "plt.annotate(line_eq,(20,15),fontsize=15,color=\"red\")\n",
    "\n",
    "# Print r value\n",
    "print(f\"The r-value is: {rvalue}\")\n",
    "\n",
    "# Show plot\n",
    "plt.show()"
   ]
  },
  {
   "cell_type": "markdown",
   "metadata": {},
   "source": [
    "There is a weak positive correlation between Latitude and Humidity in the northern hemisphere."
   ]
  },
  {
   "cell_type": "markdown",
   "metadata": {},
   "source": [
    "#  Southern Hemisphere - Humidity (%) vs. Latitude Linear Regression"
   ]
  },
  {
   "cell_type": "code",
   "execution_count": 92,
   "metadata": {},
   "outputs": [
    {
     "name": "stdout",
     "output_type": "stream",
     "text": [
      "0      78.339659\n",
      "2      73.362314\n",
      "3      69.994962\n",
      "4      70.260382\n",
      "8      73.255261\n",
      "         ...    \n",
      "515    76.033459\n",
      "516    75.665313\n",
      "518    77.775278\n",
      "521    75.480902\n",
      "529    71.504369\n",
      "Name: Lat, Length: 160, dtype: float64\n"
     ]
    }
   ],
   "source": [
    "# Perform a linear regression on Northern hemisphere temperature vs. latitude\n",
    "(slope, intercept, rvalue, pvalue, stderr) = stats.linregress(southern_hemisphere[\"Lat\"], southern_hemisphere[\"Humidity\"])\n",
    "\n",
    "# Get regression values\n",
    "regress_values = southern_hemisphere[\"Lat\"] * slope + intercept\n",
    "print(regress_values)"
   ]
  },
  {
   "cell_type": "code",
   "execution_count": 93,
   "metadata": {},
   "outputs": [
    {
     "name": "stdout",
     "output_type": "stream",
     "text": [
      "y = 0.16x +78.81\n"
     ]
    }
   ],
   "source": [
    "# Create line equation string\n",
    "line_eq = \"y = \" + str(round(slope,2)) + \"x +\" + str(round(intercept,2))\n",
    "print(line_eq)"
   ]
  },
  {
   "cell_type": "code",
   "execution_count": 94,
   "metadata": {},
   "outputs": [
    {
     "name": "stdout",
     "output_type": "stream",
     "text": [
      "The r-value is: 0.12315662365195049\n"
     ]
    },
    {
     "data": {
      "image/png": "[encoded data removed]",
      "text/plain": [
       "<Figure size 432x288 with 1 Axes>"
      ]
     },
     "metadata": {
      "needs_background": "light"
     },
     "output_type": "display_data"
    }
   ],
   "source": [
    "# Create Plot\n",
    "plt.scatter(southern_hemisphere[\"Lat\"],southern_hemisphere[\"Humidity\"])\n",
    "plt.plot(southern_hemisphere[\"Lat\"],regress_values,\"r-\")\n",
    "plt.title(\"Souhern Hemisphere - Humidity (%) vs. Latitude Linear Regression\")\n",
    "plt.savefig(\"Images/Southern Hemisphere - Humidity (%) vs. Latitude Linear Regression.png\")\n",
    "\n",
    "# Label plot and annotate the line equation\n",
    "plt.xlabel('Latitude')\n",
    "plt.ylabel('Humidity')\n",
    "plt.annotate(line_eq,(-30,30),fontsize=15,color=\"red\")\n",
    "\n",
    "# Print r value\n",
    "print(f\"The r-value is: {rvalue}\")\n",
    "\n",
    "# Show plot\n",
    "plt.show()"
   ]
  },
  {
   "cell_type": "markdown",
   "metadata": {},
   "source": [
    "There is a very weak positive correlation between latitude and humidity in the southern hemisphere."
   ]
  },
  {
   "cell_type": "markdown",
   "metadata": {},
   "source": [
    "#  Northern Hemisphere - Cloudiness (%) vs. Latitude Linear Regression"
   ]
  },
  {
   "cell_type": "code",
   "execution_count": 95,
   "metadata": {},
   "outputs": [
    {
     "name": "stdout",
     "output_type": "stream",
     "text": [
      "1      52.140619\n",
      "5      59.043627\n",
      "6      68.127410\n",
      "7      65.184641\n",
      "10     61.551858\n",
      "         ...    \n",
      "530    50.228691\n",
      "531    65.274126\n",
      "532    57.055102\n",
      "533    67.754682\n",
      "534    65.924936\n",
      "Name: Lat, Length: 375, dtype: float64\n"
     ]
    }
   ],
   "source": [
    "# Perform a linear regression on Northern hemisphere temperature vs. latitude\n",
    "(slope, intercept, rvalue, pvalue, stderr) = stats.linregress(northern_hemisphere[\"Lat\"], northern_hemisphere[\"Cloudiness\"])\n",
    "\n",
    "# Get regression values\n",
    "regress_values = northern_hemisphere[\"Lat\"] * slope + intercept\n",
    "print(regress_values)"
   ]
  },
  {
   "cell_type": "code",
   "execution_count": 96,
   "metadata": {},
   "outputs": [
    {
     "name": "stdout",
     "output_type": "stream",
     "text": [
      "y = 0.3x +47.17\n"
     ]
    }
   ],
   "source": [
    "# Create line equation string\n",
    "line_eq = \"y = \" + str(round(slope,2)) + \"x +\" + str(round(intercept,2))\n",
    "print(line_eq)"
   ]
  },
  {
   "cell_type": "code",
   "execution_count": 97,
   "metadata": {},
   "outputs": [
    {
     "name": "stdout",
     "output_type": "stream",
     "text": [
      "The r-value is: 0.16170648878432478\n"
     ]
    },
    {
     "data": {
      "image/png": "[encoded data removed]",
      "text/plain": [
       "<Figure size 432x288 with 1 Axes>"
      ]
     },
     "metadata": {
      "needs_background": "light"
     },
     "output_type": "display_data"
    }
   ],
   "source": [
    "# Create Plot\n",
    "plt.scatter(northern_hemisphere[\"Lat\"],northern_hemisphere[\"Cloudiness\"])\n",
    "plt.plot(northern_hemisphere[\"Lat\"],regress_values,\"r-\")\n",
    "plt.title(\"Northern Hemisphere - Cloudiness (%) vs. Latitude Linear Regression\")\n",
    "plt.savefig(\"Images/Northern Hemisphere - Cloudiness (%) vs. Latitude Linear Regression.png\")\n",
    "\n",
    "# Label plot and annotate the line equation\n",
    "plt.xlabel('Latitude')\n",
    "plt.ylabel('Cloudiness')\n",
    "plt.annotate(line_eq,(20,15),fontsize=15,color=\"red\")\n",
    "\n",
    "# Print r value\n",
    "print(f\"The r-value is: {rvalue}\")\n",
    "\n",
    "# Show plot\n",
    "plt.show()"
   ]
  },
  {
   "cell_type": "markdown",
   "metadata": {},
   "source": [
    "There is a very weak positive correlation between cloudiness and latitude in the northern hemisphere."
   ]
  },
  {
   "cell_type": "markdown",
   "metadata": {},
   "source": [
    "#  Southern Hemisphere - Cloudiness (%) vs. Latitude Linear Regression"
   ]
  },
  {
   "cell_type": "code",
   "execution_count": 98,
   "metadata": {},
   "outputs": [
    {
     "name": "stdout",
     "output_type": "stream",
     "text": [
      "0      67.713965\n",
      "2      56.730970\n",
      "3      49.300581\n",
      "4      49.886258\n",
      "8      56.494747\n",
      "         ...    \n",
      "515    62.625111\n",
      "516    61.812760\n",
      "518    66.468604\n",
      "521    61.405839\n",
      "529    52.631234\n",
      "Name: Lat, Length: 160, dtype: float64\n"
     ]
    }
   ],
   "source": [
    "# Perform a linear regression on Northern hemisphere temperature vs. latitude\n",
    "(slope, intercept, rvalue, pvalue, stderr) = stats.linregress(southern_hemisphere[\"Lat\"], southern_hemisphere[\"Cloudiness\"])\n",
    "\n",
    "# Get regression values\n",
    "regress_values = southern_hemisphere[\"Lat\"] * slope + intercept\n",
    "print(regress_values)"
   ]
  },
  {
   "cell_type": "code",
   "execution_count": 99,
   "metadata": {},
   "outputs": [
    {
     "name": "stdout",
     "output_type": "stream",
     "text": [
      "y = 0.35x +68.75\n"
     ]
    }
   ],
   "source": [
    "# Create line equation string\n",
    "line_eq = \"y = \" + str(round(slope,2)) + \"x +\" + str(round(intercept,2))\n",
    "print(line_eq)"
   ]
  },
  {
   "cell_type": "code",
   "execution_count": 100,
   "metadata": {},
   "outputs": [
    {
     "name": "stdout",
     "output_type": "stream",
     "text": [
      "The r-value is: 0.13192694286220816\n"
     ]
    },
    {
     "data": {
      "image/png": "[encoded data removed]",
      "text/plain": [
       "<Figure size 432x288 with 1 Axes>"
      ]
     },
     "metadata": {
      "needs_background": "light"
     },
     "output_type": "display_data"
    }
   ],
   "source": [
    "# Create Plot\n",
    "plt.scatter(southern_hemisphere[\"Lat\"],southern_hemisphere[\"Cloudiness\"])\n",
    "plt.plot(southern_hemisphere[\"Lat\"],regress_values,\"r-\")\n",
    "plt.title(\"Southern Hemisphere - Cloudiness (%) vs. Latitude Linear Regression\")\n",
    "plt.savefig(\"Images/Southern Hemisphere - Cloudiness (%) vs. Latitude Linear Regression.png\")\n",
    "\n",
    "# Label plot and annotate the line equation\n",
    "plt.xlabel('Latitude')\n",
    "plt.ylabel('Cloudiness')\n",
    "plt.annotate(line_eq,(-30,30),fontsize=15,color=\"red\")\n",
    "\n",
    "# Print r value\n",
    "print(f\"The r-value is: {rvalue}\")\n",
    "\n",
    "# Show plot\n",
    "plt.show()"
   ]
  },
  {
   "cell_type": "markdown",
   "metadata": {},
   "source": [
    "There is a weak positive correlation between latitude and cloudiness in the southern hemisphere."
   ]
  },
  {
   "cell_type": "markdown",
   "metadata": {},
   "source": [
    "#  Northern Hemisphere - Wind Speed (mph) vs. Latitude Linear Regression"
   ]
  },
  {
   "cell_type": "code",
   "execution_count": 101,
   "metadata": {},
   "outputs": [
    {
     "name": "stdout",
     "output_type": "stream",
     "text": [
      "1      8.409492\n",
      "5      8.213670\n",
      "6      7.955985\n",
      "7      8.039465\n",
      "10     8.142518\n",
      "         ...   \n",
      "530    8.463728\n",
      "531    8.036926\n",
      "532    8.270080\n",
      "533    7.966559\n",
      "534    8.018464\n",
      "Name: Lat, Length: 375, dtype: float64\n"
     ]
    }
   ],
   "source": [
    "# Perform a linear regression on Northern hemisphere temperature vs. latitude\n",
    "(slope, intercept, rvalue, pvalue, stderr) = stats.linregress(northern_hemisphere[\"Lat\"], northern_hemisphere[\"Wind Speed\"])\n",
    "\n",
    "# Get regression values\n",
    "regress_values = northern_hemisphere[\"Lat\"] * slope + intercept\n",
    "print(regress_values)"
   ]
  },
  {
   "cell_type": "code",
   "execution_count": 102,
   "metadata": {},
   "outputs": [
    {
     "name": "stdout",
     "output_type": "stream",
     "text": [
      "y = -0.01x +8.55\n"
     ]
    }
   ],
   "source": [
    "# Create line equation string\n",
    "line_eq = \"y = \" + str(round(slope,2)) + \"x +\" + str(round(intercept,2))\n",
    "print(line_eq)"
   ]
  },
  {
   "cell_type": "code",
   "execution_count": 103,
   "metadata": {},
   "outputs": [
    {
     "name": "stdout",
     "output_type": "stream",
     "text": [
      "The r-value is: -0.028205874721193267\n"
     ]
    },
    {
     "data": {
      "image/png": "[encoded data removed]",
      "text/plain": [
       "<Figure size 432x288 with 1 Axes>"
      ]
     },
     "metadata": {
      "needs_background": "light"
     },
     "output_type": "display_data"
    }
   ],
   "source": [
    "# Create Plot\n",
    "plt.scatter(northern_hemisphere[\"Lat\"],northern_hemisphere[\"Wind Speed\"])\n",
    "plt.plot(northern_hemisphere[\"Lat\"],regress_values,\"r-\")\n",
    "plt.title(\"Northern Hemisphere - Wind Speed (mph) vs. Latitude Linear Regression\")\n",
    "plt.savefig(\"Images/Northern Hemisphere - Wind Speed (mph) vs. Latitude Linear Regression.png\")\n",
    "\n",
    "# Label plot and annotate the line equation\n",
    "plt.xlabel('Latitude')\n",
    "plt.ylabel('Wind Speed')\n",
    "plt.annotate(line_eq,(20,25),fontsize=15,color=\"red\")\n",
    "\n",
    "# Print r value\n",
    "print(f\"The r-value is: {rvalue}\")\n",
    "\n",
    "# Show plot\n",
    "plt.show()"
   ]
  },
  {
   "cell_type": "markdown",
   "metadata": {},
   "source": [
    "There is a very weak negative correlation between latitude and wind speed in the northern hemisphere."
   ]
  },
  {
   "cell_type": "markdown",
   "metadata": {},
   "source": [
    "#  Southern Hemisphere - Wind Speed (mph) vs. Latitude Linear Regression"
   ]
  },
  {
   "cell_type": "code",
   "execution_count": 104,
   "metadata": {},
   "outputs": [
    {
     "name": "stdout",
     "output_type": "stream",
     "text": [
      "0       6.183998\n",
      "2      10.125000\n",
      "3      12.791229\n",
      "4      12.581072\n",
      "8      10.209763\n",
      "         ...    \n",
      "515     8.010019\n",
      "516     8.301513\n",
      "518     6.630868\n",
      "521     8.447528\n",
      "529    11.596098\n",
      "Name: Lat, Length: 160, dtype: float64\n"
     ]
    }
   ],
   "source": [
    "# Perform a linear regression on Northern hemisphere temperature vs. latitude\n",
    "(slope, intercept, rvalue, pvalue, stderr) = stats.linregress(southern_hemisphere[\"Lat\"], southern_hemisphere[\"Wind Speed\"])\n",
    "\n",
    "# Get regression values\n",
    "regress_values = southern_hemisphere[\"Lat\"] * slope + intercept\n",
    "print(regress_values)"
   ]
  },
  {
   "cell_type": "code",
   "execution_count": 105,
   "metadata": {},
   "outputs": [
    {
     "name": "stdout",
     "output_type": "stream",
     "text": [
      "y = -0.13x +5.81\n"
     ]
    }
   ],
   "source": [
    "# Create line equation string\n",
    "line_eq = \"y = \" + str(round(slope,2)) + \"x +\" + str(round(intercept,2))\n",
    "print(line_eq)"
   ]
  },
  {
   "cell_type": "code",
   "execution_count": 106,
   "metadata": {},
   "outputs": [
    {
     "name": "stdout",
     "output_type": "stream",
     "text": [
      "The r-value is: -0.275432744291914\n"
     ]
    },
    {
     "data": {
      "image/png": "[encoded data removed]",
      "text/plain": [
       "<Figure size 432x288 with 1 Axes>"
      ]
     },
     "metadata": {
      "needs_background": "light"
     },
     "output_type": "display_data"
    }
   ],
   "source": [
    "# Create Plot\n",
    "plt.scatter(southern_hemisphere[\"Lat\"],southern_hemisphere[\"Wind Speed\"])\n",
    "plt.plot(southern_hemisphere[\"Lat\"],regress_values,\"r-\")\n",
    "plt.title(\"Southern Hemisphere - Wind Speed (mph) vs. Latitude Linear Regression\")\n",
    "plt.savefig(\"Images/Southern Hemisphere - Wind Speed (mph) vs. Latitude Linear Regression.png\")\n",
    "\n",
    "# Label plot and annotate the line equation\n",
    "plt.xlabel('Latitude')\n",
    "plt.ylabel('Wind Speed')\n",
    "plt.annotate(line_eq,(-30,30),fontsize=15,color=\"red\")\n",
    "\n",
    "# Print r value\n",
    "print(f\"The r-value is: {rvalue}\")\n",
    "\n",
    "# Show plot\n",
    "plt.show()"
   ]
  },
  {
   "cell_type": "markdown",
   "metadata": {},
   "source": [
    "There is a very weak negative correlation between latitude and wind speed in the southern hemisphere."
   ]
  },
  {
   "cell_type": "code",
   "execution_count": null,
   "metadata": {},
   "outputs": [],
   "source": []
  },
  {
   "cell_type": "code",
   "execution_count": null,
   "metadata": {},
   "outputs": [],
   "source": []
  },
  {
   "cell_type": "code",
   "execution_count": null,
   "metadata": {},
   "outputs": [],
   "source": []
  }
 ],
 "metadata": {
  "kernelspec": {
   "display_name": "Python 3",
   "language": "python",
   "name": "python3"
  },
  "language_info": {
   "codemirror_mode": {
    "name": "ipython",
    "version": 3
   },
   "file_extension": ".py",
   "mimetype": "text/x-python",
   "name": "python",
   "nbconvert_exporter": "python",
   "pygments_lexer": "ipython3",
   "version": "3.6.13"
  }
 },
 "nbformat": 4,
 "nbformat_minor": 4
}
